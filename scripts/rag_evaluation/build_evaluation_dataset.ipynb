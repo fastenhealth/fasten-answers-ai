{
 "cells": [
  {
   "cell_type": "code",
   "execution_count": 27,
   "metadata": {},
   "outputs": [
    {
     "name": "stdout",
     "output_type": "stream",
     "text": [
      "The autoreload extension is already loaded. To reload it, use:\n",
      "  %reload_ext autoreload\n"
     ]
    }
   ],
   "source": [
    "%load_ext autoreload\n",
    "%autoreload 2"
   ]
  },
  {
   "cell_type": "code",
   "execution_count": 63,
   "metadata": {},
   "outputs": [],
   "source": [
    "import json\n",
    "\n",
    "from utils.settings import QUESTION_GEN_SYS_TMPL, OPENAI_MODEL_EMBEDDING\n",
    "import utils.llamaindex_utils  as liu"
   ]
  },
  {
   "cell_type": "markdown",
   "metadata": {},
   "source": [
    "# 1. Read and sample data"
   ]
  },
  {
   "cell_type": "code",
   "execution_count": 35,
   "metadata": {},
   "outputs": [],
   "source": [
    "# Load the sample JSON data for a single patient\n",
    "with open(\"./data/Abe604_Runolfsdottir785_3718b84e-cbe9-1950-6c6c-e6f4fdc907be.json\", \"r\") as f:\n",
    "    json_data = json.load(f)"
   ]
  },
  {
   "cell_type": "code",
   "execution_count": 36,
   "metadata": {},
   "outputs": [
    {
     "data": {
      "text/plain": [
       "7521"
      ]
     },
     "execution_count": 36,
     "metadata": {},
     "output_type": "execute_result"
    }
   ],
   "source": [
    "test = json_data[\"entry\"]\n",
    "len(test)"
   ]
  },
  {
   "cell_type": "code",
   "execution_count": 37,
   "metadata": {},
   "outputs": [
    {
     "data": {
      "text/plain": [
       "dict_keys(['fullUrl', 'resource', 'request'])"
      ]
     },
     "execution_count": 37,
     "metadata": {},
     "output_type": "execute_result"
    }
   ],
   "source": [
    "test[0].keys()"
   ]
  },
  {
   "cell_type": "code",
   "execution_count": 38,
   "metadata": {},
   "outputs": [
    {
     "data": {
      "text/plain": [
       "{'Patient': 1,\n",
       " 'Encounter': 543,\n",
       " 'Condition': 63,\n",
       " 'DiagnosticReport': 767,\n",
       " 'DocumentReference': 543,\n",
       " 'Claim': 642,\n",
       " 'ExplanationOfBenefit': 642,\n",
       " 'CareTeam': 4,\n",
       " 'CarePlan': 4,\n",
       " 'MedicationRequest': 99,\n",
       " 'Observation': 3517,\n",
       " 'Procedure': 664,\n",
       " 'Immunization': 10,\n",
       " 'SupplyDelivery': 1,\n",
       " 'Medication': 10,\n",
       " 'MedicationAdministration': 10,\n",
       " 'Provenance': 1}"
      ]
     },
     "execution_count": 38,
     "metadata": {},
     "output_type": "execute_result"
    }
   ],
   "source": [
    "resource_type_count = {}\n",
    "\n",
    "for entry in test:\n",
    "    if \"resource\" in entry:\n",
    "        resource_type = entry[\"resource\"].get(\"resourceType\")\n",
    "        if resource_type:\n",
    "            if resource_type in resource_type_count:\n",
    "                resource_type_count[resource_type] += 1\n",
    "            else:\n",
    "                resource_type_count[resource_type] = 1\n",
    "\n",
    "resource_type_count"
   ]
  },
  {
   "cell_type": "code",
   "execution_count": 39,
   "metadata": {},
   "outputs": [
    {
     "data": {
      "text/plain": [
       "dict"
      ]
     },
     "execution_count": 39,
     "metadata": {},
     "output_type": "execute_result"
    }
   ],
   "source": [
    "type(json_data)"
   ]
  },
  {
   "cell_type": "code",
   "execution_count": 40,
   "metadata": {},
   "outputs": [
    {
     "name": "stdout",
     "output_type": "stream",
     "text": [
      "Total system tokens: 322\n"
     ]
    }
   ],
   "source": [
    "system_prompt_tokens = sd.get_total_tokens_from_string(\n",
    "    QUESTION_GEN_SYS_TMPL.format(num_questions_per_chunk=5))\n",
    "\n",
    "print(f\"Total system tokens: {system_prompt_tokens}\")\n"
   ]
  },
  {
   "cell_type": "code",
   "execution_count": 41,
   "metadata": {},
   "outputs": [],
   "source": [
    "sampled_data, remaining_data = sd.sample_resources(json_data, system_prompt_tokens, max_entries=1000)"
   ]
  },
  {
   "cell_type": "code",
   "execution_count": 70,
   "metadata": {},
   "outputs": [
    {
     "data": {
      "text/plain": [
       "1000"
      ]
     },
     "execution_count": 70,
     "metadata": {},
     "output_type": "execute_result"
    }
   ],
   "source": [
    "len(sampled_data[\"entry\"])"
   ]
  },
  {
   "cell_type": "code",
   "execution_count": 43,
   "metadata": {},
   "outputs": [
    {
     "data": {
      "text/plain": [
       "dict_keys(['resourceType', 'type', 'entry'])"
      ]
     },
     "execution_count": 43,
     "metadata": {},
     "output_type": "execute_result"
    }
   ],
   "source": [
    "json_data.keys()"
   ]
  },
  {
   "cell_type": "code",
   "execution_count": 44,
   "metadata": {},
   "outputs": [
    {
     "data": {
      "text/plain": [
       "'Bundle'"
      ]
     },
     "execution_count": 44,
     "metadata": {},
     "output_type": "execute_result"
    }
   ],
   "source": [
    "json_data[\"resourceType\"]"
   ]
  },
  {
   "cell_type": "code",
   "execution_count": 45,
   "metadata": {},
   "outputs": [
    {
     "data": {
      "text/plain": [
       "'transaction'"
      ]
     },
     "execution_count": 45,
     "metadata": {},
     "output_type": "execute_result"
    }
   ],
   "source": [
    "json_data[\"type\"]"
   ]
  },
  {
   "cell_type": "code",
   "execution_count": 46,
   "metadata": {},
   "outputs": [],
   "source": [
    "with open(\"./data/selected_entries.json\", \"w\") as f:\n",
    "    json.dump(sampled_data, f, indent=2)\n",
    "with open(\"./data/remaining_entries.json\", \"w\") as f:\n",
    "    json.dump(remaining_data, f, indent=2)"
   ]
  },
  {
   "cell_type": "code",
   "execution_count": 47,
   "metadata": {},
   "outputs": [
    {
     "data": {
      "text/plain": [
       "{'Patient': 1,\n",
       " 'Encounter': 73,\n",
       " 'Condition': 26,\n",
       " 'DiagnosticReport': 99,\n",
       " 'DocumentReference': 74,\n",
       " 'Claim': 82,\n",
       " 'ExplanationOfBenefit': 83,\n",
       " 'CareTeam': 4,\n",
       " 'CarePlan': 4,\n",
       " 'MedicationRequest': 27,\n",
       " 'Observation': 395,\n",
       " 'Procedure': 101,\n",
       " 'Immunization': 10,\n",
       " 'SupplyDelivery': 1,\n",
       " 'Medication': 10,\n",
       " 'MedicationAdministration': 10}"
      ]
     },
     "execution_count": 47,
     "metadata": {},
     "output_type": "execute_result"
    }
   ],
   "source": [
    "resource_type_count = {}\n",
    "\n",
    "for entry in sampled_data[\"entry\"]:\n",
    "    if \"resource\" in entry:\n",
    "        resource_type = entry[\"resource\"].get(\"resourceType\")\n",
    "        if resource_type:\n",
    "            if resource_type in resource_type_count:\n",
    "                resource_type_count[resource_type] += 1\n",
    "            else:\n",
    "                resource_type_count[resource_type] = 1\n",
    "\n",
    "resource_type_count"
   ]
  },
  {
   "cell_type": "code",
   "execution_count": 48,
   "metadata": {},
   "outputs": [],
   "source": [
    "sample_open_ai_test = sd.sample_one_per_resource_type(sampled_data)"
   ]
  },
  {
   "cell_type": "markdown",
   "metadata": {},
   "source": [
    "# 2. Test token lenght of generated response sample\n",
    "\n",
    "- Llama index: https://docs.llamaindex.ai/en/stable/understanding/loading/loading/\n",
    "- Improvements:\n",
    "    - Remover FQDNs"
   ]
  },
  {
   "cell_type": "code",
   "execution_count": 4,
   "metadata": {},
   "outputs": [],
   "source": [
    "test = \"\"\"[\n",
    "    {\n",
    "        \"question\": \"What is the status of the DiagnosticReport?\",\n",
    "        \"answer\": \"final\"\n",
    "    },\n",
    "    {\n",
    "        \"question\": \"What type of notes are included in the category of the DiagnosticReport?\",\n",
    "        \"answer\": \"History and physical note, Evaluation + Plan note\"\n",
    "    },\n",
    "    {\n",
    "        \"question\": \"Who is the performer of the DiagnosticReport?\",\n",
    "        \"answer\": \"Dr. Hong136 Kassulke119\"\n",
    "    },\n",
    "    {\n",
    "        \"question\": \"What is the effective date and time of the DiagnosticReport?\",\n",
    "        \"answer\": \"1952-01-05T12:25:03+00:00\"\n",
    "    },\n",
    "    {\n",
    "        \"question\": \"What is the patient's current insurance status?\",\n",
    "        \"answer\": \"No insurance\"\n",
    "    }\n",
    "]\"\"\"\n",
    "\n",
    "total_tokens = get_total_tokens_from_string(test)"
   ]
  },
  {
   "cell_type": "code",
   "execution_count": 5,
   "metadata": {},
   "outputs": [
    {
     "data": {
      "text/plain": [
       "165"
      ]
     },
     "execution_count": 5,
     "metadata": {},
     "output_type": "execute_result"
    }
   ],
   "source": [
    "total_tokens"
   ]
  },
  {
   "cell_type": "markdown",
   "metadata": {},
   "source": [
    "# 3. Sample 10 Open AI Answers"
   ]
  },
  {
   "cell_type": "code",
   "execution_count": 35,
   "metadata": {},
   "outputs": [],
   "source": [
    "import json"
   ]
  },
  {
   "cell_type": "code",
   "execution_count": 36,
   "metadata": {},
   "outputs": [],
   "source": [
    "import json\n",
    "\n",
    "\n",
    "file_path = './data/batch_api_2.jsonl'\n",
    "\n",
    "data = []\n",
    "\n",
    "with open(file_path, 'r') as f:\n",
    "    for line in f:\n",
    "        data.append(json.loads(line.strip()))"
   ]
  },
  {
   "cell_type": "code",
   "execution_count": 40,
   "metadata": {},
   "outputs": [
    {
     "data": {
      "text/plain": [
       "\"You are a knowledgeable and empathetic healthcare expert specializing in patient communication. Your task is to create up to 5 patient-centered, clear, informative, and contextually accurate questions and answers based on the provided FHIR data context. Focus on generating questions that explore specific details, implications, or next steps related to the context. Questions about medical terminology are valid if they clarify the implications or context-specific significance of a term for the patient. Avoid overly broad questions that simply define statuses or classifications without context-specific relevance. If the context does not provide enough detail to form a specific question, prioritize quality over quantity and produce fewer questions, or none at all, if necessary. Each answer should be detailed, specific, and address all aspects of the patient's question. Avoid general statements and provide thorough explanations where necessary. For example, if explaining a medical term or value, include what the specific number or range indicates, what it means for the patient's health, and any relevant next steps or considerations. If the specific value is not available in the provided context, indicate that the information is not present and suggest possible reasons or next steps.\\n Example:\\n - If asked about a test result, include what the specific result value means, its normal range, and possible health implications.\\n - Original response: The glomerular filtration rate (GFR) test estimates how well your kidneys are filtering blood. It is a key indicator of kidney function and helps diagnose and monitor kidney disease.\\n - Improved response: The glomerular filtration rate (GFR) test estimates how well your kidneys are filtering blood. The value is adjusted for a body surface area of 1.73 square meters, which is an average adult size. A GFR of 90 or above is considered normal, while lower values can indicate varying degrees of kidney dysfunction. For example, a GFR between 60-89 may suggest mild kidney damage, whereas a GFR below 60 could indicate more severe impairment and the need for further investigation or treatment.\\n Use this approach to provide detailed and specific answers to patient questions.\""
      ]
     },
     "execution_count": 40,
     "metadata": {},
     "output_type": "execute_result"
    }
   ],
   "source": [
    "data[100][\"body\"][\"messages\"][0][\"content\"]"
   ]
  },
  {
   "cell_type": "code",
   "execution_count": 41,
   "metadata": {},
   "outputs": [
    {
     "data": {
      "text/plain": [
       "'Context information is below.\\n---------------------\\nresourceType: Condition\\nid: ffaba4ab-1a7c-0a56-72bc-b3da840717ec\\n\\n, \"encounter\": {\"reference\": \"urn:uuid:53bbaf66-d25d-377d-54ac-0612e8998cd5\"}, \"onsetDateTime\": \"1996-11-09T13:01:20+00:00\", \"abatementDateTime\": \"1997-05-10T13:00:40+00:00\", \"recordedDate\": \"1996-11-09T13:01:20+00:00\"}\\n---------------------\\nGiven the context information and not prior knowledge, generate a JSON with keys and values of the relevant questions and answers, and do not add more information. Your response must be in this format: {\"questions_and_answers\": [{\"question\": \"example question\", \"answer\": \"example answer\"}]}'"
      ]
     },
     "execution_count": 41,
     "metadata": {},
     "output_type": "execute_result"
    }
   ],
   "source": [
    "data[100][\"body\"][\"messages\"][1][\"content\"]"
   ]
  },
  {
   "cell_type": "code",
   "execution_count": 42,
   "metadata": {},
   "outputs": [
    {
     "data": {
      "text/plain": [
       "'Context information is below.\\n---------------------\\nresourceType: Condition\\nid: 8326ead1-ed63-67e1-debc-11a30e04bb89\\n\\n{\"resourceType\": \"Condition\", \"id\": \"8326ead1-ed63-67e1-debc-11a30e04bb89\", \"meta\": {\"profile\": [\"http://hl7.org/fhir/us/core/StructureDefinition/us-core-condition-encounter-diagnosis\"]}, \"clinicalStatus\": {\"coding\": [{\"system\": \"http://terminology.hl7.org/CodeSystem/condition-clinical\", \"code\": \"resolved\"}]}, \"verificationStatus\": {\"coding\": [{\"system\": \"http://terminology.hl7.org/CodeSystem/condition-ver-status\", \"code\": \"confirmed\"}]}\\n---------------------\\nGiven the context information and not prior knowledge, generate a JSON with keys and values of the relevant questions and answers, and do not add more information. Your response must be in this format: {\"questions_and_answers\": [{\"question\": \"example question\", \"answer\": \"example answer\"}]}'"
      ]
     },
     "execution_count": 42,
     "metadata": {},
     "output_type": "execute_result"
    }
   ],
   "source": [
    "data[101][\"body\"][\"messages\"][1][\"content\"]"
   ]
  },
  {
   "cell_type": "code",
   "execution_count": 44,
   "metadata": {},
   "outputs": [
    {
     "name": "stderr",
     "output_type": "stream",
     "text": [
      "huggingface/tokenizers: The current process just got forked, after parallelism has already been used. Disabling parallelism to avoid deadlocks...\n",
      "To disable this warning, you can either:\n",
      "\t- Avoid using `tokenizers` before the fork if possible\n",
      "\t- Explicitly set the environment variable TOKENIZERS_PARALLELISM=(true | false)\n",
      "INFO:httpx:HTTP Request: POST https://api.openai.com/v1/chat/completions \"HTTP/1.1 200 OK\"\n"
     ]
    }
   ],
   "source": [
    "result = liu.generate_qa_pairs(data[100][\"body\"][\"messages\"][1][\"content\"])"
   ]
  },
  {
   "cell_type": "code",
   "execution_count": 46,
   "metadata": {},
   "outputs": [
    {
     "data": {
      "text/plain": [
       "ChatCompletion(id='chatcmpl-9tMbhbKD0OethgghjWZNezgeFizVx', choices=[Choice(finish_reason='stop', index=0, logprobs=None, message=ChatCompletionMessage(content='{\"questions_and_answers\":[{\"question\":\"What does the onset date of my condition signify?\",\"answer\":\"The onset date of your condition, November 9, 1996, marks the beginning of your symptoms or diagnosis. This is important for understanding the duration of your condition and for tracking any changes in your health over time.\"},{\"question\":\"What does the abatement date indicate about my condition?\",\"answer\":\"The abatement date of your condition, May 10, 1997, indicates that the condition was considered resolved or significantly improved at that time. This suggests that any active symptoms or issues related to the condition were no longer present.\"},{\"question\":\"What can I infer about the duration of my condition from the recorded dates?\",\"answer\":\"The duration of your condition, as seen from the onset date of November 9, 1996, to the abatement date of May 10, 1997, lasted approximately six months. This duration is relevant for understanding the impact of the condition on your overall health and any potential long-term effects.\"},{\"question\":\"How might my medical history before or after these dates impact my current health?\",\"answer\":\"Your medical history before the onset and after the abatement of this condition is crucial for assessing your current health. Understanding any past health issues or treatments can influence your present healthcare decisions, guide follow-up care, and inform any ongoing management strategies.\"},{\"question\":\"Is there any follow-up or monitoring recommended after the abatement of my condition?\",\"answer\":\"While the condition has abated, it is generally advisable to have follow-up appointments with your healthcare provider to monitor your current health and to ensure that there are no recurring issues. Your provider can recommend specific tests or evaluations based on your overall health and any health risks you may have.\"}]}', role='assistant', function_call=None, tool_calls=None, refusal=None))], created=1722981969, model='gpt-4o-mini-2024-07-18', object='chat.completion', service_tier=None, system_fingerprint='fp_48196bc67a', usage=CompletionUsage(completion_tokens=362, prompt_tokens=693, total_tokens=1055))"
      ]
     },
     "execution_count": 46,
     "metadata": {},
     "output_type": "execute_result"
    }
   ],
   "source": [
    "result[\"openai_response\"]"
   ]
  },
  {
   "cell_type": "code",
   "execution_count": 47,
   "metadata": {},
   "outputs": [
    {
     "data": {
      "text/plain": [
       "{'questions_and_answers': [{'question': 'What does the onset date of my condition signify?',\n",
       "   'answer': 'The onset date of your condition, November 9, 1996, marks the beginning of your symptoms or diagnosis. This is important for understanding the duration of your condition and for tracking any changes in your health over time.'},\n",
       "  {'question': 'What does the abatement date indicate about my condition?',\n",
       "   'answer': 'The abatement date of your condition, May 10, 1997, indicates that the condition was considered resolved or significantly improved at that time. This suggests that any active symptoms or issues related to the condition were no longer present.'},\n",
       "  {'question': 'What can I infer about the duration of my condition from the recorded dates?',\n",
       "   'answer': 'The duration of your condition, as seen from the onset date of November 9, 1996, to the abatement date of May 10, 1997, lasted approximately six months. This duration is relevant for understanding the impact of the condition on your overall health and any potential long-term effects.'},\n",
       "  {'question': 'How might my medical history before or after these dates impact my current health?',\n",
       "   'answer': 'Your medical history before the onset and after the abatement of this condition is crucial for assessing your current health. Understanding any past health issues or treatments can influence your present healthcare decisions, guide follow-up care, and inform any ongoing management strategies.'},\n",
       "  {'question': 'Is there any follow-up or monitoring recommended after the abatement of my condition?',\n",
       "   'answer': 'While the condition has abated, it is generally advisable to have follow-up appointments with your healthcare provider to monitor your current health and to ensure that there are no recurring issues. Your provider can recommend specific tests or evaluations based on your overall health and any health risks you may have.'}]}"
      ]
     },
     "execution_count": 47,
     "metadata": {},
     "output_type": "execute_result"
    }
   ],
   "source": [
    "json.loads(result[\"openai_response\"].choices[0].message.content)"
   ]
  },
  {
   "cell_type": "code",
   "execution_count": null,
   "metadata": {},
   "outputs": [],
   "source": []
  },
  {
   "cell_type": "code",
   "execution_count": 68,
   "metadata": {},
   "outputs": [
    {
     "name": "stderr",
     "output_type": "stream",
     "text": [
      "INFO:httpx:HTTP Request: POST https://api.openai.com/v1/chat/completions \"HTTP/1.1 200 OK\"\n"
     ]
    }
   ],
   "source": [
    "result = liu.generate_qa_pairs(data[100][\"body\"][\"messages\"][1][\"content\"])"
   ]
  },
  {
   "cell_type": "code",
   "execution_count": 69,
   "metadata": {},
   "outputs": [
    {
     "data": {
      "text/plain": [
       "{'questions_and_answers': [{'question': 'What do the onset and abatement dates signify for my condition?',\n",
       "   'answer': 'The onset date, November 9, 1996, marks when your condition was first identified or presented, indicating the beginning of your symptoms or diagnosis. The abatement date, May 10, 1997, indicates when the condition was considered to have resolved or improved significantly. This timeline shows that your condition was active for approximately six months.'},\n",
       "  {'question': 'How does the recorded date relate to my diagnosis?',\n",
       "   'answer': 'The recorded date, which is the same as the onset date (November 9, 1996), indicates that this is when your condition was officially documented in your medical records. This is important for tracking your health history and any related treatments or evaluations you may have undergone.'},\n",
       "  {'question': 'What should I know about the implications of the duration of my condition?',\n",
       "   'answer': 'The duration of your condition, from its onset in November 1996 to its abatement in May 1997, suggests that it was short-term. However, understanding the nature of this condition, its severity, and any long-term health implications may require follow-up discussions with your healthcare provider.'},\n",
       "  {'question': 'Does the abatement of my condition indicate that I am fully recovered?',\n",
       "   'answer': 'While the abatement date suggests that your condition has resolved or improved, it is essential to consult with your healthcare provider to discuss any lingering effects or the need for further monitoring or treatment to ensure your full recovery.'},\n",
       "  {'question': 'Are there any steps I should take following the abatement of my condition?',\n",
       "   'answer': \"After the abatement of your condition, it's advisable to have a follow-up appointment with your healthcare provider to assess your overall health, review any necessary lifestyle changes, and discuss any preventive measures to maintain your well-being.\"}]}"
      ]
     },
     "execution_count": 69,
     "metadata": {},
     "output_type": "execute_result"
    }
   ],
   "source": [
    "json.loads(result[\"openai_response\"].choices[0].message.content)"
   ]
  },
  {
   "cell_type": "code",
   "execution_count": null,
   "metadata": {},
   "outputs": [],
   "source": []
  },
  {
   "cell_type": "code",
   "execution_count": null,
   "metadata": {},
   "outputs": [],
   "source": []
  },
  {
   "cell_type": "markdown",
   "metadata": {},
   "source": [
    "# 6. Test response time using different context lenght and model size"
   ]
  },
  {
   "cell_type": "code",
   "execution_count": 50,
   "metadata": {},
   "outputs": [
    {
     "data": {
      "text/plain": [
       "{'questions_and_answers': [{'question': 'What does the onset and abatement date of my condition indicate about its duration?',\n",
       "   'answer': 'The onset date of your condition was on November 9, 1996, and it was noted to have abated on May 10, 1997. This indicates that your condition was active for approximately six months and one day before it resolved.'},\n",
       "  {'question': 'What does the recorded date tell me about my medical history?',\n",
       "   'answer': \"The recorded date of November 9, 1996, marks the time when your condition was first documented in your medical records. It serves as an important reference point for tracking the condition's progression and treatment over time.\"},\n",
       "  {'question': 'What should I know about the significance of the abatement of my condition?',\n",
       "   'answer': 'The abatement date indicates that your condition resolved or significantly improved as of May 10, 1997. Understanding this timeframe can help you and your healthcare provider assess any long-term effects or the need for follow-up care.'},\n",
       "  {'question': 'Can you explain the reference to my encounter in the context?',\n",
       "   'answer': 'The reference to your encounter suggests that there is a specific medical visit or event associated with your condition. This could include your diagnosis, treatment, or evaluation. Reviewing the details of this encounter can provide more insights into how your healthcare provider managed your condition.'},\n",
       "  {'question': 'Is there any follow-up necessary after the resolution of my condition?',\n",
       "   'answer': 'While your condition has abated, it is essential to follow up with your healthcare provider to discuss any lingering effects or potential risks for recurrence. Regular check-ups can help ensure your overall health and address any new concerns.'}]}"
      ]
     },
     "execution_count": 50,
     "metadata": {},
     "output_type": "execute_result"
    }
   ],
   "source": [
    "json.loads(result[\"openai_response\"].choices[0].message.content)"
   ]
  },
  {
   "cell_type": "code",
   "execution_count": null,
   "metadata": {},
   "outputs": [],
   "source": []
  },
  {
   "cell_type": "code",
   "execution_count": null,
   "metadata": {},
   "outputs": [],
   "source": []
  },
  {
   "cell_type": "markdown",
   "metadata": {},
   "source": [
    "# 4. Generate jsonl file for OpenAI batch API"
   ]
  },
  {
   "cell_type": "code",
   "execution_count": null,
   "metadata": {},
   "outputs": [],
   "source": []
  },
  {
   "cell_type": "code",
   "execution_count": 1,
   "metadata": {},
   "outputs": [],
   "source": [
    "import json\n",
    "\n",
    "\n",
    "with open(\"./data/selected_entries.json\", \"r\") as f:\n",
    "    json_data = json.load(f)"
   ]
  },
  {
   "cell_type": "code",
   "execution_count": 8,
   "metadata": {},
   "outputs": [
    {
     "data": {
      "text/plain": [
       "'{\"resourceType\": \"Patient\", \"id\": \"3718b84e-cbe9-1950-6c6c-e6f4fdc907be\", \"meta\": {\"profile\": [\"http://hl7.org/fhir/us/core/StructureDefinition/us-core-patient\"]}, \"text\": {\"status\": \"generated\", \"div\": \"<div xmlns=\\\\\"http://www.w3.org/1999/xhtml\\\\\">Generated by <a href=\\\\\"https://github.com/synthetichealth/synthea\\\\\">Synthea</a>.Version identifier: 27e32d4\\\\n .   Person seed: -8963394751129060304  Population seed: 1720471530063</div>\"}, \"extension\": [{\"url\": \"http://hl7.org/fhir/us/core/StructureDefinition/us-core-race\", \"extension\": [{\"url\": \"ombCategory\", \"valueCoding\": {\"system\": \"urn:oid:2.16.840.1.113883.6.238\", \"code\": \"2028-9\", \"display\": \"Asian\"}}, {\"url\": \"text\", \"valueString\": \"Asian\"}]}, {\"url\": \"http://hl7.org/fhir/us/core/StructureDefinition/us-core-ethnicity\", \"extension\": [{\"url\": \"ombCategory\", \"valueCoding\": {\"system\": \"urn:oid:2.16.840.1.113883.6.238\", \"code\": \"2186-5\", \"display\": \"Not Hispanic or Latino\"}}, {\"url\": \"text\", \"valueString\": \"Not Hispanic or Latino\"}]}, {\"url\": \"http://hl7.org/fhir/StructureDefinition/patient-mothersMaidenName\", \"valueString\": \"Toshia520 Yundt842\"}, {\"url\": \"http://hl7.org/fhir/us/core/StructureDefinition/us-core-birthsex\", \"valueCode\": \"M\"}, {\"url\": \"http://hl7.org/fhir/StructureDefinition/patient-birthPlace\", \"valueAddress\": {\"city\": \"Cambridge\", \"state\": \"Massachusetts\", \"country\": \"US\"}}, {\"url\": \"http://synthetichealth.github.io/synthea/disability-adjusted-life-years\", \"valueDecimal\": 17.13814248316981}, {\"url\": \"http://synthetichealth.github.io/synthea/quality-adjusted-life-years\", \"valueDecimal\": 48.86185751683019}], \"identifier\": [{\"system\": \"https://github.com/synthetichealth/synthea\", \"value\": \"3718b84e-cbe9-1950-6c6c-e6f4fdc907be\"}, {\"type\": {\"coding\": [{\"system\": \"http://terminology.hl7.org/CodeSystem/v2-0203\", \"code\": \"MR\", \"display\": \"Medical Record Number\"}], \"text\": \"Medical Record Number\"}, \"system\": \"http://hospital.smarthealthit.org\", \"value\": \"3718b84e-cbe9-1950-6c6c-e6f4fdc907be\"}, {\"type\": {\"coding\": [{\"system\": \"http://terminology.hl7.org/CodeSystem/v2-0203\", \"code\": \"SS\", \"display\": \"Social Security Number\"}], \"text\": \"Social Security Number\"}, \"system\": \"http://hl7.org/fhir/sid/us-ssn\", \"value\": \"999-31-4351\"}, {\"type\": {\"coding\": [{\"system\": \"http://terminology.hl7.org/CodeSystem/v2-0203\", \"code\": \"DL\", \"display\": \"Driver\\'s license number\"}], \"text\": \"Driver\\'s license number\"}, \"system\": \"urn:oid:2.16.840.1.113883.4.3.25\", \"value\": \"S99933597\"}, {\"type\": {\"coding\": [{\"system\": \"http://terminology.hl7.org/CodeSystem/v2-0203\", \"code\": \"PPN\", \"display\": \"Passport Number\"}], \"text\": \"Passport Number\"}, \"system\": \"http://hl7.org/fhir/sid/passport-USA\", \"value\": \"X54440952X\"}], \"name\": [{\"use\": \"official\", \"family\": \"Runolfsdottir785\", \"given\": [\"Abe604\", \"Franklin857\"], \"prefix\": [\"Mr.\"]}], \"telecom\": [{\"system\": \"phone\", \"value\": \"555-572-5416\", \"use\": \"home\"}], \"gender\": \"male\", \"birthDate\": \"1934-11-17\", \"deceasedDateTime\": \"2001-08-18T12:25:03+00:00\", \"address\": [{\"extension\": [{\"url\": \"http://hl7.org/fhir/StructureDefinition/geolocation\", \"extension\": [{\"url\": \"latitude\", \"valueDecimal\": 42.369901149748934}, {\"url\": \"longitude\", \"valueDecimal\": -71.77449718386292}]}], \"line\": [\"569 Schuppe Ville Apt 40\"], \"city\": \"Worcester\", \"state\": \"MA\", \"postalCode\": \"01603\", \"country\": \"US\"}], \"maritalStatus\": {\"coding\": [{\"system\": \"http://terminology.hl7.org/CodeSystem/v3-MaritalStatus\", \"code\": \"M\", \"display\": \"Married\"}], \"text\": \"Married\"}, \"multipleBirthBoolean\": false, \"communication\": [{\"language\": {\"coding\": [{\"system\": \"urn:ietf:bcp:47\", \"code\": \"en-US\", \"display\": \"English (United States)\"}], \"text\": \"English (United States)\"}}]}'"
      ]
     },
     "execution_count": 8,
     "metadata": {},
     "output_type": "execute_result"
    }
   ],
   "source": [
    "json.dumps(json_data[\"entry\"][0][\"resource\"])"
   ]
  },
  {
   "cell_type": "code",
   "execution_count": 43,
   "metadata": {},
   "outputs": [
    {
     "data": {
      "text/plain": [
       "1000"
      ]
     },
     "execution_count": 43,
     "metadata": {},
     "output_type": "execute_result"
    }
   ],
   "source": [
    "nodes = create_json_nodes_llamaindex_batch_api(json_data)\n",
    "len(nodes)"
   ]
  },
  {
   "cell_type": "code",
   "execution_count": 76,
   "metadata": {},
   "outputs": [],
   "source": [
    "generate_qa_file(nodes=nodes, output_file=\"./data/batch_api.jsonl\")"
   ]
  },
  {
   "cell_type": "markdown",
   "metadata": {},
   "source": [
    "# 5. Costs"
   ]
  },
  {
   "cell_type": "code",
   "execution_count": 20,
   "metadata": {},
   "outputs": [],
   "source": [
    "import json"
   ]
  },
  {
   "cell_type": "code",
   "execution_count": 18,
   "metadata": {},
   "outputs": [],
   "source": []
  },
  {
   "cell_type": "code",
   "execution_count": 21,
   "metadata": {},
   "outputs": [
    {
     "data": {
      "text/plain": [
       "1179"
      ]
     },
     "execution_count": 21,
     "metadata": {},
     "output_type": "execute_result"
    }
   ],
   "source": [
    "len(json.dumps(answer))"
   ]
  },
  {
   "cell_type": "code",
   "execution_count": 23,
   "metadata": {},
   "outputs": [
    {
     "data": {
      "text/plain": [
       "1167"
      ]
     },
     "execution_count": 23,
     "metadata": {},
     "output_type": "execute_result"
    }
   ],
   "source": [
    "len(json.dumps(answer).replace(\"{\", \"\").replace(\"}\", \"\"))"
   ]
  },
  {
   "cell_type": "code",
   "execution_count": 12,
   "metadata": {},
   "outputs": [],
   "source": [
    "answer = \"\"\"A chat between a curious user and an intelligent, polite medical assistant. The assistant provides detailed, helpful answers to the user's medical questions, including accurate references where applicable.<|eot_id|>\n",
    "<|start_header_id|>user<|end_header_id|>\n",
    "\n",
    "Context information is below.\n",
    "{\"resourceType\": \"Observation\", \"id\": \"099796cb-a72b-8dbf-2ce5-687ea75937b5\", \"meta\": {\"profile\": [\"http://hl7.org/fhir/us/core/StructureDefinition/us-core-observation-lab\"]}, \"status\": \"final\", \"category\": [{\"coding\": [{\"system\": \"http://terminology.hl7.org/CodeSystem/observation-category\", \"code\": \"laboratory\", \"display\": \"Laboratory\"}]}], \"code\": {\"coding\": [{\"system\": \"http://loinc.org\", \"code\": \"6690-2\", \"display\": \"Leukocytes [#/volume] in Blood by Automated count\"}], \"text\": \"Leukocytes [#/volume] in Blood by Automated count\"}, \"subject\": {\"reference\": \"urn:uuid:3718b84e-cbe9-1950-6c6c-e6f4fdc907be\"}, \"encounter\": {\"reference\": \"urn:uuid:0b660041-ff12-899e-2d1b-1ef35babff69\"}, \"effectiveDateTime\": \"1998-02-05T20:03:15+00:00\", \"issued\": \"1998-02-05T20:03:15.545+00:00\", \"valueQuantity\": {\"value\": 6.8337, \"unit\": \"10*3/uL\", \"system\": \"http://unitsofmeasure.org\", \"code\": \"10*3/uL\"}}\n",
    "{\"resourceType\": \"Observation\", \"id\": \"ae729ca2-3c21-73f7-c285-a02d247f74a9\", \"meta\": {\"profile\": [\"http://hl7.org/fhir/us/core/StructureDefinition/us-core-observation-lab\"]}, \"status\": \"final\", \"category\": [{\"coding\": [{\"system\": \"http://terminology.hl7.org/CodeSystem/observation-category\", \"code\": \"laboratory\", \"display\": \"Laboratory\"}]}], \"code\": {\"coding\": [{\"system\": \"http://loinc.org\", \"code\": \"6690-2\", \"display\": \"Leukocytes [#/volume] in Blood by Automated count\"}], \"text\": \"Leukocytes [#/volume] in Blood by Automated count\"}, \"subject\": {\"reference\": \"urn:uuid:3718b84e-cbe9-1950-6c6c-e6f4fdc907be\"}, \"encounter\": {\"reference\": \"urn:uuid:41e6f1a1-e651-9416-a037-3ab269149136\"}, \"effectiveDateTime\": \"1998-01-21T16:57:00+00:00\", \"issued\": \"1998-01-21T16:57:00.545+00:00\", \"valueQuantity\": {\"value\": 9.9836, \"unit\": \"10*3/uL\", \"system\": \"http://unitsofmeasure.org\", \"code\": \"10*3/uL\"}}\n",
    "{\"resourceType\": \"Observation\", \"id\": \"4b4bb748-338e-3df0-43dc-0692118ec4a1\", \"meta\": {\"profile\": [\"http://hl7.org/fhir/us/core/StructureDefinition/us-core-observation-lab\"]}, \"status\": \"final\", \"category\": [{\"coding\": [{\"system\": \"http://terminology.hl7.org/CodeSystem/observation-category\", \"code\": \"laboratory\", \"display\": \"Laboratory\"}]}], \"code\": {\"coding\": [{\"system\": \"http://loinc.org\", \"code\": \"777-3\", \"display\": \"Platelets [#/volume] in Blood by Automated count\"}], \"text\": \"Platelets [#/volume] in Blood by Automated count\"}, \"subject\": {\"reference\": \"urn:uuid:3718b84e-cbe9-1950-6c6c-e6f4fdc907be\"}, \"encounter\": {\"reference\": \"urn:uuid:41e6f1a1-e651-9416-a037-3ab269149136\"}, \"effectiveDateTime\": \"1998-01-20T16:22:18+00:00\", \"issued\": \"1998-01-20T16:22:18.545+00:00\", \"valueQuantity\": {\"value\": 328.02, \"unit\": \"10*3/uL\", \"system\": \"http://unitsofmeasure.org\", \"code\": \"10*3/uL\"}}\n",
    "---------------------\n",
    "Given the context information (if there is any), this is my message: What is a Complete Blood Count (CBC) and why is it important?<|eot_id|>\n",
    "<|start_header_id|>assistant<|end_header_id|>\"\"\""
   ]
  },
  {
   "cell_type": "code",
   "execution_count": 13,
   "metadata": {},
   "outputs": [
    {
     "data": {
      "text/plain": [
       "1143"
      ]
     },
     "execution_count": 13,
     "metadata": {},
     "output_type": "execute_result"
    }
   ],
   "source": [
    "sd.get_total_tokens_from_string(json.dumps(answer))"
   ]
  },
  {
   "cell_type": "code",
   "execution_count": 44,
   "metadata": {},
   "outputs": [
    {
     "data": {
      "text/plain": [
       "TextNode(id_='e1f3ef42-e2cc-4459-a729-8337382713db', embedding=None, metadata={'resourceType': 'Patient', 'id': '3718b84e-cbe9-1950-6c6c-e6f4fdc907be'}, excluded_embed_metadata_keys=[], excluded_llm_metadata_keys=[], relationships={}, text='{\"resourceType\": \"Patient\", \"id\": \"3718b84e-cbe9-1950-6c6c-e6f4fdc907be\", \"meta\": {\"profile\": [\"http://hl7.org/fhir/us/core/StructureDefinition/us-core-patient\"]}, \"text\": {\"status\": \"generated\", \"div\": \"<div xmlns=\\\\\"http://www.w3.org/1999/xhtml\\\\\">Generated by <a href=\\\\\"https://github.com/synthetichealth/synthea\\\\\">Synthea</a>.Version identifier: 27e32d4\\\\n .   Person seed: -8963394751129060304  Population seed: 1720471530063</div>\"}, \"extension\": [{\"url\": \"http://hl7.org/fhir/us/core/StructureDefinition/us-core-race\", \"extension\": [{\"url\": \"ombCategory\", \"valueCoding\": {\"system\": \"urn:oid:2.16.840.1.113883.6.238\", \"code\": \"2028-9\", \"display\": \"Asian\"}}, {\"url\": \"text\", \"valueString\": \"Asian\"}]}, {\"url\": \"http://hl7.org/fhir/us/core/StructureDefinition/us-core-ethnicity\", \"extension\": [{\"url\": \"ombCategory\", \"valueCoding\": {\"system\": \"urn:oid:2.16.840.1.113883.6.238\", \"code\": \"2186-5\", \"display\": \"Not Hispanic or Latino\"}}, {\"url\": \"text\", \"valueString\": \"Not Hispanic or Latino\"}]}, {\"url\": \"http://hl7.org/fhir/StructureDefinition/patient-mothersMaidenName\", \"valueString\": \"Toshia520 Yundt842\"}, {\"url\": \"http://hl7.org/fhir/us/core/StructureDefinition/us-core-birthsex\", \"valueCode\": \"M\"}, {\"url\": \"http://hl7.org/fhir/StructureDefinition/patient-birthPlace\", \"valueAddress\": {\"city\": \"Cambridge\", \"state\": \"Massachusetts\", \"country\": \"US\"}}, {\"url\": \"http://synthetichealth.github.io/synthea/disability-adjusted-life-years\", \"valueDecimal\": 17.13814248316981}, {\"url\": \"http://synthetichealth.github.io/synthea/quality-adjusted-life-years\", \"valueDecimal\": 48.86185751683019}], \"identifier\": [{\"system\": \"https://github.com/synthetichealth/synthea\", \"value\": \"3718b84e-cbe9-1950-6c6c-e6f4fdc907be\"}, {\"type\": {\"coding\": [{\"system\": \"http://terminology.hl7.org/CodeSystem/v2-0203\", \"code\": \"MR\", \"display\": \"Medical Record Number\"}], \"text\": \"Medical Record Number\"}, \"system\": \"http://hospital.smarthealthit.org\", \"value\": \"3718b84e-cbe9-1950-6c6c-e6f4fdc907be\"}, {\"type\": {\"coding\": [{\"system\": \"http://terminology.hl7.org/CodeSystem/v2-0203\", \"code\": \"SS\", \"display\": \"Social Security Number\"}], \"text\": \"Social Security Number\"}, \"system\": \"http://hl7.org/fhir/sid/us-ssn\", \"value\": \"999-31-4351\"}, {\"type\": {\"coding\": [{\"system\": \"http://terminology.hl7.org/CodeSystem/v2-0203\", \"code\": \"DL\", \"display\": \"Driver\\'s license number\"}], \"text\": \"Driver\\'s license number\"}, \"system\": \"urn:oid:2.16.840.1.113883.4.3.25\", \"value\": \"S99933597\"}, {\"type\": {\"coding\": [{\"system\": \"http://terminology.hl7.org/CodeSystem/v2-0203\", \"code\": \"PPN\", \"display\": \"Passport Number\"}], \"text\": \"Passport Number\"}, \"system\": \"http://hl7.org/fhir/sid/passport-USA\", \"value\": \"X54440952X\"}], \"name\": [{\"use\": \"official\", \"family\": \"Runolfsdottir785\", \"given\": [\"Abe604\", \"Franklin857\"], \"prefix\": [\"Mr.\"]}], \"telecom\": [{\"system\": \"phone\", \"value\": \"555-572-5416\", \"use\": \"home\"}], \"gender\": \"male\", \"birthDate\": \"1934-11-17\", \"deceasedDateTime\": \"2001-08-18T12:25:03+00:00\", \"address\": [{\"extension\": [{\"url\": \"http://hl7.org/fhir/StructureDefinition/geolocation\", \"extension\": [{\"url\": \"latitude\", \"valueDecimal\": 42.369901149748934}, {\"url\": \"longitude\", \"valueDecimal\": -71.77449718386292}]}], \"line\": [\"569 Schuppe Ville Apt 40\"], \"city\": \"Worcester\", \"state\": \"MA\", \"postalCode\": \"01603\", \"country\": \"US\"}], \"maritalStatus\": {\"coding\": [{\"system\": \"http://terminology.hl7.org/CodeSystem/v3-MaritalStatus\", \"code\": \"M\", \"display\": \"Married\"}], \"text\": \"Married\"}, \"multipleBirthBoolean\": false, \"communication\": [{\"language\": {\"coding\": [{\"system\": \"urn:ietf:bcp:47\", \"code\": \"en-US\", \"display\": \"English (United States)\"}], \"text\": \"English (United States)\"}}]}', mimetype='text/plain', start_char_idx=None, end_char_idx=None, text_template='{metadata_str}\\n\\n{content}', metadata_template='{key}: {value}', metadata_seperator='\\n')"
      ]
     },
     "execution_count": 44,
     "metadata": {},
     "output_type": "execute_result"
    }
   ],
   "source": [
    "nodes[0]"
   ]
  },
  {
   "cell_type": "code",
   "execution_count": 57,
   "metadata": {},
   "outputs": [
    {
     "name": "stdout",
     "output_type": "stream",
     "text": [
      "0.166 1009520 300000\n"
     ]
    }
   ],
   "source": [
    "costs_batch_api, total_input_tokens, total_output_tokens = aprox_costs(nodes)\n",
    "print(costs_batch_api, total_input_tokens, total_output_tokens)"
   ]
  },
  {
   "cell_type": "code",
   "execution_count": 58,
   "metadata": {},
   "outputs": [
    {
     "name": "stdout",
     "output_type": "stream",
     "text": [
      "(0.331, 1009520, 300000)\n"
     ]
    }
   ],
   "source": [
    "costs_batch_api = aprox_costs(nodes, cost_per_million_input=0.15, cost_per_million_output=0.6)\n",
    "print(costs_batch_api)"
   ]
  },
  {
   "cell_type": "code",
   "execution_count": 2,
   "metadata": {},
   "outputs": [
    {
     "data": {
      "text/plain": [
       "True"
      ]
     },
     "execution_count": 2,
     "metadata": {},
     "output_type": "execute_result"
    }
   ],
   "source": [
    "from dotenv import load_dotenv\n",
    "import os\n",
    "import random\n",
    "\n",
    "from transformers import AutoTokenizer\n",
    "\n",
    "\n",
    "load_dotenv()"
   ]
  },
  {
   "cell_type": "code",
   "execution_count": 4,
   "metadata": {},
   "outputs": [
    {
     "data": {
      "application/vnd.jupyter.widget-view+json": {
       "model_id": "a32839c0d2ac482abc1cc2baf77f9ee3",
       "version_major": 2,
       "version_minor": 0
      },
      "text/plain": [
       "tokenizer_config.json:   0%|          | 0.00/50.5k [00:00<?, ?B/s]"
      ]
     },
     "metadata": {},
     "output_type": "display_data"
    },
    {
     "data": {
      "application/vnd.jupyter.widget-view+json": {
       "model_id": "9414f6106e7f4189a85a724f2a1d59e9",
       "version_major": 2,
       "version_minor": 0
      },
      "text/plain": [
       "tokenizer.json:   0%|          | 0.00/9.09M [00:00<?, ?B/s]"
      ]
     },
     "metadata": {},
     "output_type": "display_data"
    },
    {
     "data": {
      "application/vnd.jupyter.widget-view+json": {
       "model_id": "3a53afc95f17468d949dc5aae1e20859",
       "version_major": 2,
       "version_minor": 0
      },
      "text/plain": [
       "special_tokens_map.json:   0%|          | 0.00/73.0 [00:00<?, ?B/s]"
      ]
     },
     "metadata": {},
     "output_type": "display_data"
    }
   ],
   "source": [
    "# Inicializa el tokenizador\n",
    "tokenizer = AutoTokenizer.from_pretrained(\"meta-llama/Meta-Llama-3.1-8B\",\n",
    "                                          token=os.getenv(\"HUGGING_FACE_ACCESS_TOKEN\"))"
   ]
  },
  {
   "cell_type": "code",
   "execution_count": 5,
   "metadata": {},
   "outputs": [],
   "source": [
    "base_template = (\n",
    "    \"Patient is a {age}-year-old {gender} with a history of {conditions}. \"\n",
    "    \"They are currently experiencing {symptoms} and are taking {medications}. \"\n",
    "    \"Additional information: {extra_info} \"\n",
    "    \"Patient's question: {user_question}\"\n",
    ")\n",
    "\n",
    "# Posibles valores para las plantillas\n",
    "genders = [\"male\", \"female\", \"non-binary\"]\n",
    "conditions_list = [\"hypertension\", \"diabetes\", \"asthma\", \"chronic kidney disease\", \"arthritis\"]\n",
    "symptoms_list = [\"chest pain\", \"shortness of breath\", \"headache\", \"dizziness\", \"fatigue\"]\n",
    "medications_list = [\"lisinopril\", \"metformin\", \"albuterol\", \"hydrochlorothiazide\", \"ibuprofen\"]\n",
    "\n",
    "# Ampliación de la lista de información adicional\n",
    "extra_info_list = [\n",
    "    \"The patient has a family history of cardiovascular disease.\",\n",
    "    \"They have been experiencing symptoms for the past two weeks.\",\n",
    "    \"Regular follow-ups are scheduled every month.\",\n",
    "    \"The patient follows a specific diet plan and exercises regularly.\",\n",
    "    \"Their last lab results showed improvement in glucose levels.\",\n",
    "    \"The patient has been advised to monitor their blood pressure daily.\",\n",
    "    \"Recent imaging studies indicate no acute changes.\",\n",
    "    \"The patient has been vaccinated for seasonal influenza.\",\n",
    "    \"They reported a recent increase in physical activity.\",\n",
    "    \"Current lifestyle includes smoking cessation and reduced alcohol intake.\",\n",
    "    \"Previous surgical history includes appendectomy at age 25.\",\n",
    "    \"The patient has mild allergic reactions to certain antibiotics.\",\n",
    "    \"They have been on a gluten-free diet for the past year.\",\n",
    "    \"The patient's occupation involves moderate physical labor.\",\n",
    "    \"Recent laboratory tests revealed elevated cholesterol levels.\",\n",
    "    \"They have regular appointments with a nutritionist.\",\n",
    "    \"The patient is participating in a clinical trial for new medication.\",\n",
    "    \"Their sleep patterns have improved with recent lifestyle changes.\",\n",
    "    \"They have joined a support group for chronic pain management.\",\n",
    "    \"The patient uses a home blood pressure monitor to track readings.\",\n",
    "    \"They have expressed interest in alternative therapies.\",\n",
    "    \"Their exercise regimen includes daily walking and stretching exercises.\",\n",
    "    \"The patient has reported improved mental health with therapy.\",\n",
    "    \"They are managing stress with mindfulness and meditation practices.\",\n",
    "    \"The patient has completed a course on diabetes self-management.\",\n",
    "]\n",
    "\n",
    "# Preguntas del usuario\n",
    "user_questions = [\n",
    "    \"What should I do to better manage my symptoms?\",\n",
    "    \"Are there any alternative therapies I should consider?\",\n",
    "    \"How can I adjust my diet to improve my condition?\",\n",
    "    \"What exercises would be beneficial for my health?\",\n",
    "    \"Should I be concerned about my recent lab results?\",\n",
    "    \"How often should I schedule follow-up appointments?\",\n",
    "    \"Is my current medication regimen appropriate?\",\n",
    "    \"What are the potential side effects of my medications?\",\n",
    "    \"How can I reduce my risk of complications?\",\n",
    "    \"Are there any new treatments available for my condition?\",\n",
    "]"
   ]
  },
  {
   "cell_type": "code",
   "execution_count": 6,
   "metadata": {},
   "outputs": [],
   "source": [
    "contexts = {}\n",
    "for target_token_size in range(100, 1600, 100):\n",
    "    while True:\n",
    "        # Genera un contexto base\n",
    "        context = base_template.format(\n",
    "            age=random.randint(20, 80),\n",
    "            gender=random.choice(genders),\n",
    "            conditions=\", \".join(random.sample(conditions_list, random.randint(1, 3))),\n",
    "            symptoms=\", \".join(random.sample(symptoms_list, random.randint(1, 3))),\n",
    "            medications=\", \".join(random.sample(medications_list, random.randint(1, 3))),\n",
    "            extra_info=random.choice(extra_info_list),\n",
    "            user_question=random.choice(user_questions)\n",
    "        )\n",
    "        \n",
    "        # Tokeniza el contexto\n",
    "        tokens = tokenizer.encode(context, return_tensors='pt')\n",
    "        token_count = len(tokens[0])\n",
    "\n",
    "        # Incrementa el contexto si es necesario\n",
    "        while token_count < target_token_size:\n",
    "            context += \" \" + random.choice(extra_info_list)\n",
    "            tokens = tokenizer.encode(context, return_tensors='pt')\n",
    "            token_count = len(tokens[0])\n",
    "        \n",
    "        # Ajusta para no exceder el tamaño objetivo\n",
    "        if token_count >= target_token_size - 10 and token_count <= target_token_size + 10:\n",
    "            contexts[target_token_size] = context\n",
    "            break"
   ]
  },
  {
   "cell_type": "code",
   "execution_count": 8,
   "metadata": {},
   "outputs": [
    {
     "name": "stdout",
     "output_type": "stream",
     "text": [
      "Context of size 100 tokens\n",
      "Context of size 200 tokens\n",
      "Context of size 300 tokens\n",
      "Context of size 400 tokens\n",
      "Context of size 500 tokens\n",
      "Context of size 600 tokens\n",
      "Context of size 700 tokens\n",
      "Context of size 800 tokens\n",
      "Context of size 900 tokens\n",
      "Context of size 1000 tokens\n",
      "Context of size 1100 tokens\n",
      "Context of size 1200 tokens\n",
      "Context of size 1300 tokens\n",
      "Context of size 1400 tokens\n",
      "Context of size 1500 tokens\n"
     ]
    }
   ],
   "source": [
    "# Muestra los contextos generados\n",
    "for size, context in contexts.items():\n",
    "    print(f\"Context of size {size} tokens\")"
   ]
  },
  {
   "cell_type": "code",
   "execution_count": 17,
   "metadata": {},
   "outputs": [
    {
     "data": {
      "text/plain": [
       "406"
      ]
     },
     "execution_count": 17,
     "metadata": {},
     "output_type": "execute_result"
    }
   ],
   "source": [
    "len(tokenizer.encode(contexts[400], return_tensors='pt')[0])"
   ]
  },
  {
   "cell_type": "code",
   "execution_count": 10,
   "metadata": {},
   "outputs": [
    {
     "data": {
      "text/plain": [
       "\"Patient is a 41-year-old female with a history of asthma. They are currently experiencing fatigue and are taking albuterol, hydrochlorothiazide, ibuprofen. Additional information: The patient follows a specific diet plan and exercises regularly. Patient's question: Is my current medication regimen appropriate? The patient has completed a course on diabetes self-management. They reported a recent increase in physical activity. The patient has mild allergic reactions to certain antibiotics. Recent laboratory tests revealed elevated cholesterol levels.\""
      ]
     },
     "execution_count": 10,
     "metadata": {},
     "output_type": "execute_result"
    }
   ],
   "source": [
    "contexts[100]"
   ]
  },
  {
   "cell_type": "code",
   "execution_count": null,
   "metadata": {},
   "outputs": [],
   "source": [
    "# Genera contextos de diferentes tamaños\n",
    "contexts = {}\n",
    "for target_token_size in range(100, 1600, 100):\n",
    "    while True:\n",
    "        # Genera un contexto base\n",
    "        context = base_template.format(\n",
    "            age=random.randint(20, 80),\n",
    "            gender=random.choice(genders),\n",
    "            conditions=\", \".join(random.sample(conditions_list, random.randint(1, 3))),\n",
    "            symptoms=\", \".join(random.sample(symptoms_list, random.randint(1, 3))),\n",
    "            medications=\", \".join(random.sample(medications_list, random.randint(1, 3))),\n",
    "            extra_info=random.choice(extra_info_list)\n",
    "        )\n",
    "        \n",
    "        # Tokeniza el contexto\n",
    "        tokens = tokenizer.encode(context, return_tensors='pt')\n",
    "        token_count = len(tokens[0])\n",
    "\n",
    "        # Incrementa el contexto si es necesario\n",
    "        while token_count < target_token_size:\n",
    "            context += \" \" + random.choice(extra_info_list)\n",
    "            tokens = tokenizer.encode(context, return_tensors='pt')\n",
    "            token_count = len(tokens[0])\n",
    "        \n",
    "        # Ajusta para no exceder el tamaño objetivo\n",
    "        if token_count >= target_token_size - 10 and token_count <= target_token_size + 10:\n",
    "            contexts[target_token_size] = context\n",
    "            break\n",
    "\n",
    "# Muestra los contextos generados\n",
    "for size, context in contexts.items():\n",
    "    print(f\"Context of size {size} tokens:\\n{context}\\n\")"
   ]
  },
  {
   "cell_type": "code",
   "execution_count": null,
   "metadata": {},
   "outputs": [],
   "source": []
  },
  {
   "cell_type": "code",
   "execution_count": null,
   "metadata": {},
   "outputs": [],
   "source": []
  },
  {
   "cell_type": "code",
   "execution_count": null,
   "metadata": {},
   "outputs": [],
   "source": []
  },
  {
   "cell_type": "markdown",
   "metadata": {},
   "source": [
    "# TODO\n",
    "\n",
    "- Cambiar notebooks a scripts\n",
    "- Dejar lista consulta para con chatgpt\n",
    "    - limitar generación y revisar textos largos, usar gpt4 mini\n",
    "- Por qué es tan lento la respuesta con llama.cpp?\n",
    "- Revisar porqué llama.cpp deja la pregunta incompleta si pasa el máximo contexto\n",
    "- Terminar entregables con mejoras posteriores y next steps\n"
   ]
  },
  {
   "cell_type": "code",
   "execution_count": 8,
   "metadata": {},
   "outputs": [
    {
     "data": {
      "text/plain": [
       "3000"
      ]
     },
     "execution_count": 8,
     "metadata": {},
     "output_type": "execute_result"
    }
   ],
   "source": [
    "sum([300]*10)"
   ]
  },
  {
   "cell_type": "markdown",
   "metadata": {},
   "source": [
    "# Test relations between nodes"
   ]
  },
  {
   "cell_type": "code",
   "execution_count": null,
   "metadata": {},
   "outputs": [],
   "source": [
    "def extract_references_recursive(resource):\n",
    "    references = []\n",
    "\n",
    "    if isinstance(resource, dict):\n",
    "        if \"reference\" in resource:\n",
    "            references.append(resource[\"reference\"])\n",
    "        for _, value in resource.items():\n",
    "            references.extend(extract_references_recursive(value))\n",
    "    elif isinstance(resource, list):\n",
    "        for item in resource:\n",
    "            references.extend(extract_references_recursive(item))\n",
    "\n",
    "    return references"
   ]
  },
  {
   "cell_type": "code",
   "execution_count": 2,
   "metadata": {},
   "outputs": [],
   "source": [
    "# Load the sample JSON data for a single patient\n",
    "with open(\"./data/Abe604_Runolfsdottir785_3718b84e-cbe9-1950-6c6c-e6f4fdc907be.json\", \"r\") as f:\n",
    "    json_data = json.load(f)"
   ]
  },
  {
   "cell_type": "code",
   "execution_count": 9,
   "metadata": {},
   "outputs": [],
   "source": [
    "llama_prompt = \"{\\\"resourceType\\\": \\\"Observation\\\", \\\"id\\\": \\\"527d8281-b130-4459-2023-6fa431179861\\\", \\\"meta\\\": {\\\"profile\\\": [\\\"http://hl7.org/fhir/us/core/StructureDefinition/us-core-observation-lab\\\"]}, \\\"status\\\": \\\"final\\\", \\\"category\\\": [{\\\"coding\\\": [{\\\"system\\\": \\\"http://terminology.hl7.org/CodeSystem/observation-category\\\", \\\"code\\\": \\\"laboratory\\\", \\\"display\\\": \\\"Laboratory\\\"}]}], \\\"code\\\": {\\\"coding\\\": [{\\\"system\\\": \\\"http://loinc.org\\\", \\\"code\\\": \\\"33914-3\\\", \\\"display\\\": \\\"Glomerular filtration rate/1.73 sq M.predicted [Volume Rate/Area] in Serum or Plasma by Creatinine-based formula (MDRD)\\\"}], \\\"text\\\": \\\"Glomerular filtration rate/1.73 sq M.predicted [Volume Rate/Area] in Serum or Plasma by Creatinine-based formula (MDRD)\\\"}, \\\"subject\\\": {\\\"reference\\\": \\\"urn:uuid:3718b84e-cbe9-1950-6c6c-e6f4fdc907be\\\"}, \\\"encounter\\\": {\\\"reference\\\": \\\"urn:uuid:a92a56d4-6be1-c556-fc1c-a62ca7f43077\\\"}, \\\"effectiveDateTime\\\": \\\"1995-11-16T23:04:03+00:00\\\", \\\"issued\\\": \\\"1995-11-16T23:04:03.545+00:00\\\", \\\"valueQuantity\\\": {\\\"value\\\": 17.434, \\\"unit\\\": \\\"mL/min\\\", \\\"system\\\": \\\"http://unitsofmeasure.org\\\", \\\"code\\\": \\\"mL/min\\\"}}\"\n",
    "                                  "
   ]
  },
  {
   "cell_type": "code",
   "execution_count": 11,
   "metadata": {},
   "outputs": [
    {
     "data": {
      "text/plain": [
       "'{\"resourceType\": \"Observation\", \"id\": \"527d8281-b130-4459-2023-6fa431179861\", \"meta\": {\"profile\": [\"http://hl7.org/fhir/us/core/StructureDefinition/us-core-observation-lab\"]}, \"status\": \"final\", \"category\": [{\"coding\": [{\"system\": \"http://terminology.hl7.org/CodeSystem/observation-category\", \"code\": \"laboratory\", \"display\": \"Laboratory\"}]}], \"code\": {\"coding\": [{\"system\": \"http://loinc.org\", \"code\": \"33914-3\", \"display\": \"Glomerular filtration rate/1.73 sq M.predicted [Volume Rate/Area] in Serum or Plasma by Creatinine-based formula (MDRD)\"}], \"text\": \"Glomerular filtration rate/1.73 sq M.predicted [Volume Rate/Area] in Serum or Plasma by Creatinine-based formula (MDRD)\"}, \"subject\": {\"reference\": \"urn:uuid:3718b84e-cbe9-1950-6c6c-e6f4fdc907be\"}, \"encounter\": {\"reference\": \"urn:uuid:a92a56d4-6be1-c556-fc1c-a62ca7f43077\"}, \"effectiveDateTime\": \"1995-11-16T23:04:03+00:00\", \"issued\": \"1995-11-16T23:04:03.545+00:00\", \"valueQuantity\": {\"value\": 17.434, \"unit\": \"mL/min\", \"system\": \"http://unitsofmeasure.org\", \"code\": \"mL/min\"}}'"
      ]
     },
     "execution_count": 11,
     "metadata": {},
     "output_type": "execute_result"
    }
   ],
   "source": [
    "llama_prompt"
   ]
  },
  {
   "cell_type": "code",
   "execution_count": 10,
   "metadata": {},
   "outputs": [
    {
     "data": {
      "text/plain": [
       "'{\"resourceType\": \"Observation\", \"id\": \"527d8281-b130-4459-2023-6fa431179861\", \"meta\": {\"profile\": [\"http://hl7.org/fhir/us/core/StructureDefinition/us-core-observation-lab\"]}, \"status\": \"final\", \"category\": [{\"coding\": [{\"system\": \"http://terminology.hl7.org/CodeSystem/observation-category\", \"code\": \"laboratory\", \"display\": \"Laboratory\"}]}], \"code\": {\"coding\": [{\"system\": \"http://loinc.org\", \"code\": \"33914-3\", \"display\": \"Glomerular filtration rate/1.73 sq M.predicted [Volume Rate/Area] in Serum or Plasma by Creatinine-based formula (MDRD)\"}], \"text\": \"Glomerular filtration rate/1.73 sq M.predicted [Volume Rate/Area] in Serum or Plasma by Creatinine-based formula (MDRD)\"}, \"subject\": {\"reference\": \"urn:uuid:3718b84e-cbe9-1950-6c6c-e6f4fdc907be\"}, \"encounter\": {\"reference\": \"urn:uuid:a92a56d4-6be1-c556-fc1c-a62ca7f43077\"}, \"effectiveDateTime\": \"1995-11-16T23:04:03+00:00\", \"issued\": \"1995-11-16T23:04:03.545+00:00\", \"valueQuantity\": {\"value\": 17.434, \"unit\": \"mL/min\", \"system\": \"http://unitsofmeasure.org\", \"code\": \"mL/min\"}}'"
      ]
     },
     "execution_count": 10,
     "metadata": {},
     "output_type": "execute_result"
    }
   ],
   "source": [
    "llama_prompt.replace(\"\\\\\", \"\")"
   ]
  },
  {
   "cell_type": "code",
   "execution_count": 18,
   "metadata": {},
   "outputs": [],
   "source": [
    "a = \", value: 3718b84e-cbe9-1950-6c6c-e6f4fdc907be}, {type: {coding: [{system: http://terminology.hl7.org/CodeSystem/v2-0203, code: MR, display: Medical Record Number}], text: Medical Record Number}, system: http://hospital.smarthealthit.org, value: 3718b84e-cbe9-1950-6c6c-e6f4fdc907be}, {type: {coding: [{system: http://terminology.hl7.org/CodeSystem/v2-0203, code: SS, display: Social Security Number}], text: Social Security Number}, system: http://hl7.org/fhir/sid/us-ssn, value: 999-31-4351}\""
   ]
  },
  {
   "cell_type": "code",
   "execution_count": 19,
   "metadata": {},
   "outputs": [
    {
     "data": {
      "text/plain": [
       "492"
      ]
     },
     "execution_count": 19,
     "metadata": {},
     "output_type": "execute_result"
    }
   ],
   "source": [
    "len(a)"
   ]
  },
  {
   "cell_type": "code",
   "execution_count": 13,
   "metadata": {},
   "outputs": [
    {
     "data": {
      "text/plain": [
       "', \"location\": [{\"location\": {\"reference\": \"Location?identifier=https://github.com/synthetichealth/synthea|3f92fe75-f098-31ff-94e6-884465ffa64a\", \"display\": \"Worcester Outpatient Clinic\"}}], \"serviceProvider\": {\"reference\": \"Organization?identifier=https://github.com/synthetichealth/synthea|1e3ca321-fbbb-3546-b9ea-c3761a20324a\", \"display\": \"Worcester Outpatient Clinic\"}}'"
      ]
     },
     "execution_count": 13,
     "metadata": {},
     "output_type": "execute_result"
    }
   ],
   "source": [
    "a"
   ]
  },
  {
   "cell_type": "code",
   "execution_count": 10,
   "metadata": {},
   "outputs": [],
   "source": [
    "cleaned_a = a.replace('\\\"', '').replace('\\\\', '')"
   ]
  },
  {
   "cell_type": "code",
   "execution_count": 11,
   "metadata": {},
   "outputs": [
    {
     "data": {
      "text/plain": [
       "350"
      ]
     },
     "execution_count": 11,
     "metadata": {},
     "output_type": "execute_result"
    }
   ],
   "source": [
    "len(cleaned_a)"
   ]
  },
  {
   "cell_type": "code",
   "execution_count": 12,
   "metadata": {},
   "outputs": [
    {
     "data": {
      "text/plain": [
       "', location: [{location: {reference: Location?identifier=https://github.com/synthetichealth/synthea|3f92fe75-f098-31ff-94e6-884465ffa64a, display: Worcester Outpatient Clinic}}], serviceProvider: {reference: Organization?identifier=https://github.com/synthetichealth/synthea|1e3ca321-fbbb-3546-b9ea-c3761a20324a, display: Worcester Outpatient Clinic}}'"
      ]
     },
     "execution_count": 12,
     "metadata": {},
     "output_type": "execute_result"
    }
   ],
   "source": [
    "cleaned_a"
   ]
  },
  {
   "cell_type": "code",
   "execution_count": null,
   "metadata": {},
   "outputs": [],
   "source": []
  }
 ],
 "metadata": {
  "kernelspec": {
   "display_name": "venv",
   "language": "python",
   "name": "python3"
  },
  "language_info": {
   "codemirror_mode": {
    "name": "ipython",
    "version": 3
   },
   "file_extension": ".py",
   "mimetype": "text/x-python",
   "name": "python",
   "nbconvert_exporter": "python",
   "pygments_lexer": "ipython3",
   "version": "3.9.19"
  }
 },
 "nbformat": 4,
 "nbformat_minor": 2
}
