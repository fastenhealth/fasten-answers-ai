{
 "cells": [
  {
   "cell_type": "code",
   "execution_count": 1,
   "metadata": {},
   "outputs": [],
   "source": [
    "%load_ext autoreload\n",
    "%autoreload 2"
   ]
  },
  {
   "cell_type": "code",
   "execution_count": 56,
   "metadata": {},
   "outputs": [],
   "source": [
    "import json\n",
    "\n",
    "from utils.settings import QUESTION_GEN_SYS_TMPL, OPENAI_MODEL_EMBEDDING\n",
    "import utils.llamaindex_utils  as liu\n",
    "import utils.sampling_data as sd\n",
    "from utils.openai_api import generate_qa_file_batch_api, \\\n",
    "    create_json_nodes_llamaindex_batch_api, aprox_costs"
   ]
  },
  {
   "cell_type": "markdown",
   "metadata": {},
   "source": [
    "# 1. Read and sample data"
   ]
  },
  {
   "cell_type": "code",
   "execution_count": 35,
   "metadata": {},
   "outputs": [],
   "source": [
    "# Load the sample JSON data for a single patient\n",
    "with open(\"./data/Abe604_Runolfsdottir785_3718b84e-cbe9-1950-6c6c-e6f4fdc907be.json\", \"r\") as f:\n",
    "    json_data = json.load(f)"
   ]
  },
  {
   "cell_type": "code",
   "execution_count": 36,
   "metadata": {},
   "outputs": [
    {
     "data": {
      "text/plain": [
       "7521"
      ]
     },
     "execution_count": 36,
     "metadata": {},
     "output_type": "execute_result"
    }
   ],
   "source": [
    "test = json_data[\"entry\"]\n",
    "len(test)"
   ]
  },
  {
   "cell_type": "code",
   "execution_count": 37,
   "metadata": {},
   "outputs": [
    {
     "data": {
      "text/plain": [
       "dict_keys(['fullUrl', 'resource', 'request'])"
      ]
     },
     "execution_count": 37,
     "metadata": {},
     "output_type": "execute_result"
    }
   ],
   "source": [
    "test[0].keys()"
   ]
  },
  {
   "cell_type": "code",
   "execution_count": 38,
   "metadata": {},
   "outputs": [
    {
     "data": {
      "text/plain": [
       "{'Patient': 1,\n",
       " 'Encounter': 543,\n",
       " 'Condition': 63,\n",
       " 'DiagnosticReport': 767,\n",
       " 'DocumentReference': 543,\n",
       " 'Claim': 642,\n",
       " 'ExplanationOfBenefit': 642,\n",
       " 'CareTeam': 4,\n",
       " 'CarePlan': 4,\n",
       " 'MedicationRequest': 99,\n",
       " 'Observation': 3517,\n",
       " 'Procedure': 664,\n",
       " 'Immunization': 10,\n",
       " 'SupplyDelivery': 1,\n",
       " 'Medication': 10,\n",
       " 'MedicationAdministration': 10,\n",
       " 'Provenance': 1}"
      ]
     },
     "execution_count": 38,
     "metadata": {},
     "output_type": "execute_result"
    }
   ],
   "source": [
    "resource_type_count = {}\n",
    "\n",
    "for entry in test:\n",
    "    if \"resource\" in entry:\n",
    "        resource_type = entry[\"resource\"].get(\"resourceType\")\n",
    "        if resource_type:\n",
    "            if resource_type in resource_type_count:\n",
    "                resource_type_count[resource_type] += 1\n",
    "            else:\n",
    "                resource_type_count[resource_type] = 1\n",
    "\n",
    "resource_type_count"
   ]
  },
  {
   "cell_type": "code",
   "execution_count": 39,
   "metadata": {},
   "outputs": [
    {
     "data": {
      "text/plain": [
       "dict"
      ]
     },
     "execution_count": 39,
     "metadata": {},
     "output_type": "execute_result"
    }
   ],
   "source": [
    "type(json_data)"
   ]
  },
  {
   "cell_type": "code",
   "execution_count": 40,
   "metadata": {},
   "outputs": [
    {
     "name": "stdout",
     "output_type": "stream",
     "text": [
      "Total system tokens: 322\n"
     ]
    }
   ],
   "source": [
    "system_prompt_tokens = sd.get_total_tokens_from_string(\n",
    "    QUESTION_GEN_SYS_TMPL.format(num_questions_per_chunk=5))\n",
    "\n",
    "print(f\"Total system tokens: {system_prompt_tokens}\")\n"
   ]
  },
  {
   "cell_type": "code",
   "execution_count": 41,
   "metadata": {},
   "outputs": [],
   "source": [
    "sampled_data, remaining_data = sd.sample_resources(json_data, system_prompt_tokens, max_entries=1000)"
   ]
  },
  {
   "cell_type": "code",
   "execution_count": 70,
   "metadata": {},
   "outputs": [
    {
     "data": {
      "text/plain": [
       "1000"
      ]
     },
     "execution_count": 70,
     "metadata": {},
     "output_type": "execute_result"
    }
   ],
   "source": [
    "len(sampled_data[\"entry\"])"
   ]
  },
  {
   "cell_type": "code",
   "execution_count": 43,
   "metadata": {},
   "outputs": [
    {
     "data": {
      "text/plain": [
       "dict_keys(['resourceType', 'type', 'entry'])"
      ]
     },
     "execution_count": 43,
     "metadata": {},
     "output_type": "execute_result"
    }
   ],
   "source": [
    "json_data.keys()"
   ]
  },
  {
   "cell_type": "code",
   "execution_count": 44,
   "metadata": {},
   "outputs": [
    {
     "data": {
      "text/plain": [
       "'Bundle'"
      ]
     },
     "execution_count": 44,
     "metadata": {},
     "output_type": "execute_result"
    }
   ],
   "source": [
    "json_data[\"resourceType\"]"
   ]
  },
  {
   "cell_type": "code",
   "execution_count": 45,
   "metadata": {},
   "outputs": [
    {
     "data": {
      "text/plain": [
       "'transaction'"
      ]
     },
     "execution_count": 45,
     "metadata": {},
     "output_type": "execute_result"
    }
   ],
   "source": [
    "json_data[\"type\"]"
   ]
  },
  {
   "cell_type": "code",
   "execution_count": 46,
   "metadata": {},
   "outputs": [],
   "source": [
    "with open(\"./data/selected_entries.json\", \"w\") as f:\n",
    "    json.dump(sampled_data, f, indent=2)\n",
    "with open(\"./data/remaining_entries.json\", \"w\") as f:\n",
    "    json.dump(remaining_data, f, indent=2)"
   ]
  },
  {
   "cell_type": "code",
   "execution_count": 47,
   "metadata": {},
   "outputs": [
    {
     "data": {
      "text/plain": [
       "{'Patient': 1,\n",
       " 'Encounter': 73,\n",
       " 'Condition': 26,\n",
       " 'DiagnosticReport': 99,\n",
       " 'DocumentReference': 74,\n",
       " 'Claim': 82,\n",
       " 'ExplanationOfBenefit': 83,\n",
       " 'CareTeam': 4,\n",
       " 'CarePlan': 4,\n",
       " 'MedicationRequest': 27,\n",
       " 'Observation': 395,\n",
       " 'Procedure': 101,\n",
       " 'Immunization': 10,\n",
       " 'SupplyDelivery': 1,\n",
       " 'Medication': 10,\n",
       " 'MedicationAdministration': 10}"
      ]
     },
     "execution_count": 47,
     "metadata": {},
     "output_type": "execute_result"
    }
   ],
   "source": [
    "resource_type_count = {}\n",
    "\n",
    "for entry in sampled_data[\"entry\"]:\n",
    "    if \"resource\" in entry:\n",
    "        resource_type = entry[\"resource\"].get(\"resourceType\")\n",
    "        if resource_type:\n",
    "            if resource_type in resource_type_count:\n",
    "                resource_type_count[resource_type] += 1\n",
    "            else:\n",
    "                resource_type_count[resource_type] = 1\n",
    "\n",
    "resource_type_count"
   ]
  },
  {
   "cell_type": "code",
   "execution_count": 48,
   "metadata": {},
   "outputs": [],
   "source": [
    "sample_open_ai_test = sd.sample_one_per_resource_type(sampled_data)"
   ]
  },
  {
   "cell_type": "markdown",
   "metadata": {},
   "source": [
    "# 2. Test token lenght of generated response sample\n",
    "\n",
    "- Llama index: https://docs.llamaindex.ai/en/stable/understanding/loading/loading/\n",
    "- Improvements:\n",
    "    - Remover FQDNs"
   ]
  },
  {
   "cell_type": "code",
   "execution_count": 4,
   "metadata": {},
   "outputs": [],
   "source": [
    "test = \"\"\"[\n",
    "    {\n",
    "        \"question\": \"What is the status of the DiagnosticReport?\",\n",
    "        \"answer\": \"final\"\n",
    "    },\n",
    "    {\n",
    "        \"question\": \"What type of notes are included in the category of the DiagnosticReport?\",\n",
    "        \"answer\": \"History and physical note, Evaluation + Plan note\"\n",
    "    },\n",
    "    {\n",
    "        \"question\": \"Who is the performer of the DiagnosticReport?\",\n",
    "        \"answer\": \"Dr. Hong136 Kassulke119\"\n",
    "    },\n",
    "    {\n",
    "        \"question\": \"What is the effective date and time of the DiagnosticReport?\",\n",
    "        \"answer\": \"1952-01-05T12:25:03+00:00\"\n",
    "    },\n",
    "    {\n",
    "        \"question\": \"What is the patient's current insurance status?\",\n",
    "        \"answer\": \"No insurance\"\n",
    "    }\n",
    "]\"\"\"\n",
    "\n",
    "total_tokens = get_total_tokens_from_string(test)"
   ]
  },
  {
   "cell_type": "code",
   "execution_count": 5,
   "metadata": {},
   "outputs": [
    {
     "data": {
      "text/plain": [
       "165"
      ]
     },
     "execution_count": 5,
     "metadata": {},
     "output_type": "execute_result"
    }
   ],
   "source": [
    "total_tokens"
   ]
  },
  {
   "cell_type": "markdown",
   "metadata": {},
   "source": [
    "# 3. Sample 10 Open AI Answers"
   ]
  },
  {
   "cell_type": "code",
   "execution_count": 49,
   "metadata": {},
   "outputs": [],
   "source": [
    "nodes = liu.create_json_nodes_llamaindex_test(sample_open_ai_test)"
   ]
  },
  {
   "cell_type": "code",
   "execution_count": 50,
   "metadata": {},
   "outputs": [],
   "source": [
    "lenght = []\n",
    "for node in nodes:\n",
    "    token_total = sd.get_total_tokens_from_string(node.get_content(metadata_mode=\"all\"), sd.OPENAI_MODEL_EMBEDDING)\n",
    "    lenght.append(token_total)"
   ]
  },
  {
   "cell_type": "code",
   "execution_count": 51,
   "metadata": {},
   "outputs": [
    {
     "data": {
      "text/plain": [
       "[1252,\n",
       " 622,\n",
       " 402,\n",
       " 1328,\n",
       " 1736,\n",
       " 639,\n",
       " 1706,\n",
       " 578,\n",
       " 550,\n",
       " 498,\n",
       " 341,\n",
       " 376,\n",
       " 315,\n",
       " 235,\n",
       " 161,\n",
       " 290]"
      ]
     },
     "execution_count": 51,
     "metadata": {},
     "output_type": "execute_result"
    }
   ],
   "source": [
    "lenght"
   ]
  },
  {
   "cell_type": "code",
   "execution_count": 52,
   "metadata": {},
   "outputs": [
    {
     "name": "stderr",
     "output_type": "stream",
     "text": [
      "INFO:httpx:HTTP Request: POST https://api.openai.com/v1/chat/completions \"HTTP/1.1 200 OK\"\n"
     ]
    }
   ],
   "source": [
    "result = liu.generate_qa_pairs([nodes[-1]])"
   ]
  },
  {
   "cell_type": "code",
   "execution_count": 53,
   "metadata": {},
   "outputs": [
    {
     "data": {
      "text/plain": [
       "ChatCompletion(id='chatcmpl-9rFcQE578UBMi2MCAmBPHdI0db8YT', choices=[Choice(finish_reason='stop', index=0, logprobs=None, message=ChatCompletionMessage(content='{\"questions_and_answers\":[{\"question\":\"What medication was administered to me on February 12, 1998?\",\"answer\":\"You were administered 1 ML of tacrolimus at a concentration of 5 MG/ML. Tacrolimus is an immunosuppressant medication commonly used to prevent organ rejection in patients who have received a kidney transplant.\"},{\"question\":\"What is the purpose of tacrolimus in my treatment?\",\"answer\":\"Tacrolimus is used to suppress your immune system to prevent it from attacking the transplanted kidney. This is crucial after a renal transplant to help ensure that your body accepts the new organ and functions properly.\"},{\"question\":\"What is the status of my medication administration?\",\"answer\":\"The status of your medication administration is \\'completed,\\' which indicates that the administration of tacrolimus was successfully carried out as planned.\"},{\"question\":\"Why was tacrolimus administered to me?\",\"answer\":\"Tacrolimus was administered due to your history of renal transplant. After a transplant, immunosuppressive therapy is necessary to prevent organ rejection, and tacrolimus is a key part of that therapy.\"},{\"question\":\"Is there any information available about how I responded to the tacrolimus administration?\",\"answer\":\"The provided context does not include information on your response to the tacrolimus administration or any subsequent monitoring data. It may be beneficial to follow up with your healthcare provider for details on your kidney function and any necessary laboratory tests to assess the effectiveness of the medication.\"}]}', role='assistant', function_call=None, tool_calls=None))], created=1722478450, model='gpt-4o-mini-2024-07-18', object='chat.completion', service_tier=None, system_fingerprint='fp_0f03d4f0ee', usage=CompletionUsage(completion_tokens=303, prompt_tokens=690, total_tokens=993))"
      ]
     },
     "execution_count": 53,
     "metadata": {},
     "output_type": "execute_result"
    }
   ],
   "source": [
    "result[\"node_0\"][\"openai_response\"]"
   ]
  },
  {
   "cell_type": "code",
   "execution_count": 60,
   "metadata": {},
   "outputs": [
    {
     "data": {
      "text/plain": [
       "{'questions_and_answers': [{'question': 'What medication was administered to me on February 12, 1998?',\n",
       "   'answer': 'You were administered 1 ML of tacrolimus at a concentration of 5 MG/ML. Tacrolimus is an immunosuppressant medication commonly used to prevent organ rejection in patients who have received a kidney transplant.'},\n",
       "  {'question': 'What is the purpose of tacrolimus in my treatment?',\n",
       "   'answer': 'Tacrolimus is used to suppress your immune system to prevent it from attacking the transplanted kidney. This is crucial after a renal transplant to help ensure that your body accepts the new organ and functions properly.'},\n",
       "  {'question': 'What is the status of my medication administration?',\n",
       "   'answer': \"The status of your medication administration is 'completed,' which indicates that the administration of tacrolimus was successfully carried out as planned.\"},\n",
       "  {'question': 'Why was tacrolimus administered to me?',\n",
       "   'answer': 'Tacrolimus was administered due to your history of renal transplant. After a transplant, immunosuppressive therapy is necessary to prevent organ rejection, and tacrolimus is a key part of that therapy.'},\n",
       "  {'question': 'Is there any information available about how I responded to the tacrolimus administration?',\n",
       "   'answer': 'The provided context does not include information on your response to the tacrolimus administration or any subsequent monitoring data. It may be beneficial to follow up with your healthcare provider for details on your kidney function and any necessary laboratory tests to assess the effectiveness of the medication.'}]}"
      ]
     },
     "execution_count": 60,
     "metadata": {},
     "output_type": "execute_result"
    }
   ],
   "source": [
    "json.loads(result[\"node_0\"][\"openai_response\"].choices[0].message.content)"
   ]
  },
  {
   "cell_type": "code",
   "execution_count": 63,
   "metadata": {},
   "outputs": [
    {
     "data": {
      "text/plain": [
       "690"
      ]
     },
     "execution_count": 63,
     "metadata": {},
     "output_type": "execute_result"
    }
   ],
   "source": [
    "result[\"node_0\"][\"openai_response\"].usage.prompt_tokens"
   ]
  },
  {
   "cell_type": "code",
   "execution_count": 84,
   "metadata": {},
   "outputs": [
    {
     "data": {
      "text/plain": [
       "{'questions_and_answers': [{'question': 'What is renal dialysis?',\n",
       "   'answer': 'Renal dialysis is a medical procedure used to remove waste products and excess fluid from the blood when the kidneys are not functioning properly. It is typically required for patients with end-stage renal disease.'},\n",
       "  {'question': 'Why did I undergo renal dialysis?',\n",
       "   'answer': 'You underwent renal dialysis due to end-stage renal disease, which is a condition where your kidneys have lost their ability to effectively filter blood, necessitating dialysis as a life-sustaining treatment.'},\n",
       "  {'question': 'When was my renal dialysis performed?',\n",
       "   'answer': 'Your renal dialysis was performed on September 21, 1996, starting at 12:25 PM and concluding at 4:03 PM.'},\n",
       "  {'question': 'Where did my dialysis session take place?',\n",
       "   'answer': 'Your dialysis session took place at the Worcester Outpatient Clinic.'},\n",
       "  {'question': \"What does the status 'completed' mean regarding my dialysis procedure?\",\n",
       "   'answer': \"The status 'completed' indicates that the renal dialysis procedure was successfully performed and all necessary steps were carried out as intended, and you have completed that treatment session.\"}]}"
      ]
     },
     "execution_count": 84,
     "metadata": {},
     "output_type": "execute_result"
    }
   ],
   "source": [
    "json.loads(result[\"node_0\"][\"openai_response\"].strip('\\'```').replace('json\\n', '').replace('\\\\n', '').replace('\\\\t', '').replace('\\n', '').replace('\\t', ''))"
   ]
  },
  {
   "cell_type": "code",
   "execution_count": 79,
   "metadata": {},
   "outputs": [
    {
     "data": {
      "text/plain": [
       "'```json\\n{\\n  \"questions_and_answers\": [\\n    {\\n      \"question\": \"What is renal dialysis?\",\\n      \"answer\": \"Renal dialysis is a medical procedure used to remove waste products and excess fluid from the blood when the kidneys are not functioning properly. It is typically required for patients with end-stage renal disease.\"\\n    },\\n    {\\n      \"question\": \"Why did I undergo renal dialysis?\",\\n      \"answer\": \"You underwent renal dialysis due to end-stage renal disease, which is a condition where your kidneys have lost their ability to effectively filter blood, necessitating dialysis as a life-sustaining treatment.\"\\n    },\\n    {\\n      \"question\": \"When was my renal dialysis performed?\",\\n      \"answer\": \"Your renal dialysis was performed on September 21, 1996, starting at 12:25 PM and concluding at 4:03 PM.\"\\n    },\\n    {\\n      \"question\": \"Where did my dialysis session take place?\",\\n      \"answer\": \"Your dialysis session took place at the Worcester Outpatient Clinic.\"\\n    },\\n    {\\n      \"question\": \"What does the status \\'completed\\' mean regarding my dialysis procedure?\",\\n      \"answer\": \"The status \\'completed\\' indicates that the renal dialysis procedure was successfully performed and all necessary steps were carried out as intended, and you have completed that treatment session.\"\\n    }\\n  ]\\n}\\n```'"
      ]
     },
     "execution_count": 79,
     "metadata": {},
     "output_type": "execute_result"
    }
   ],
   "source": [
    "result[\"node_0\"][\"openai_response\"]"
   ]
  },
  {
   "cell_type": "code",
   "execution_count": 68,
   "metadata": {},
   "outputs": [
    {
     "data": {
      "text/plain": [
       "'d48f3d68-cd9a-411c-8cc7-fb9afe062aad'"
      ]
     },
     "execution_count": 68,
     "metadata": {},
     "output_type": "execute_result"
    }
   ],
   "source": [
    "nodes[-1].metadata[\"id\"]"
   ]
  },
  {
   "cell_type": "markdown",
   "metadata": {},
   "source": [
    "# 4. Generate jsonl file for OpenAI batch API"
   ]
  },
  {
   "cell_type": "code",
   "execution_count": 42,
   "metadata": {},
   "outputs": [],
   "source": [
    "with open(\"./data/selected_entries.json\", \"r\") as f:\n",
    "    json_data = json.load(f)"
   ]
  },
  {
   "cell_type": "code",
   "execution_count": 43,
   "metadata": {},
   "outputs": [
    {
     "data": {
      "text/plain": [
       "1000"
      ]
     },
     "execution_count": 43,
     "metadata": {},
     "output_type": "execute_result"
    }
   ],
   "source": [
    "nodes = create_json_nodes_llamaindex_batch_api(json_data)\n",
    "len(nodes)"
   ]
  },
  {
   "cell_type": "code",
   "execution_count": 76,
   "metadata": {},
   "outputs": [],
   "source": [
    "generate_qa_file(nodes=nodes, output_file=\"./data/batch_api.jsonl\")"
   ]
  },
  {
   "cell_type": "markdown",
   "metadata": {},
   "source": [
    "# 5. Costs"
   ]
  },
  {
   "cell_type": "code",
   "execution_count": 4,
   "metadata": {},
   "outputs": [],
   "source": [
    "answer = {'questions_and_answers': [{'question': 'What is renal dialysis?',\n",
    "   'answer': 'Renal dialysis is a medical procedure used to remove waste products and excess fluid from the blood when the kidneys are not functioning properly. It is typically required for patients with end-stage renal disease.'},\n",
    "  {'question': 'Why did I undergo renal dialysis?',\n",
    "   'answer': 'You underwent renal dialysis due to end-stage renal disease, which is a condition where your kidneys have lost their ability to effectively filter blood, necessitating dialysis as a life-sustaining treatment.'},\n",
    "  {'question': 'When was my renal dialysis performed?',\n",
    "   'answer': 'Your renal dialysis was performed on September 21, 1996, starting at 12:25 PM and concluding at 4:03 PM.'},\n",
    "  {'question': 'Where did my dialysis session take place?',\n",
    "   'answer': 'Your dialysis session took place at the Worcester Outpatient Clinic.'},\n",
    "  {'question': \"What does the status 'completed' mean regarding my dialysis procedure?\",\n",
    "   'answer': \"The status 'completed' indicates that the renal dialysis procedure was successfully performed and all necessary steps were carried out as intended, and you have completed that treatment session.\"}]}"
   ]
  },
  {
   "cell_type": "code",
   "execution_count": 6,
   "metadata": {},
   "outputs": [
    {
     "data": {
      "text/plain": [
       "241"
      ]
     },
     "execution_count": 6,
     "metadata": {},
     "output_type": "execute_result"
    }
   ],
   "source": [
    "sd.get_total_tokens_from_string(json.dumps(answer))"
   ]
  },
  {
   "cell_type": "code",
   "execution_count": 44,
   "metadata": {},
   "outputs": [
    {
     "data": {
      "text/plain": [
       "TextNode(id_='e1f3ef42-e2cc-4459-a729-8337382713db', embedding=None, metadata={'resourceType': 'Patient', 'id': '3718b84e-cbe9-1950-6c6c-e6f4fdc907be'}, excluded_embed_metadata_keys=[], excluded_llm_metadata_keys=[], relationships={}, text='{\"resourceType\": \"Patient\", \"id\": \"3718b84e-cbe9-1950-6c6c-e6f4fdc907be\", \"meta\": {\"profile\": [\"http://hl7.org/fhir/us/core/StructureDefinition/us-core-patient\"]}, \"text\": {\"status\": \"generated\", \"div\": \"<div xmlns=\\\\\"http://www.w3.org/1999/xhtml\\\\\">Generated by <a href=\\\\\"https://github.com/synthetichealth/synthea\\\\\">Synthea</a>.Version identifier: 27e32d4\\\\n .   Person seed: -8963394751129060304  Population seed: 1720471530063</div>\"}, \"extension\": [{\"url\": \"http://hl7.org/fhir/us/core/StructureDefinition/us-core-race\", \"extension\": [{\"url\": \"ombCategory\", \"valueCoding\": {\"system\": \"urn:oid:2.16.840.1.113883.6.238\", \"code\": \"2028-9\", \"display\": \"Asian\"}}, {\"url\": \"text\", \"valueString\": \"Asian\"}]}, {\"url\": \"http://hl7.org/fhir/us/core/StructureDefinition/us-core-ethnicity\", \"extension\": [{\"url\": \"ombCategory\", \"valueCoding\": {\"system\": \"urn:oid:2.16.840.1.113883.6.238\", \"code\": \"2186-5\", \"display\": \"Not Hispanic or Latino\"}}, {\"url\": \"text\", \"valueString\": \"Not Hispanic or Latino\"}]}, {\"url\": \"http://hl7.org/fhir/StructureDefinition/patient-mothersMaidenName\", \"valueString\": \"Toshia520 Yundt842\"}, {\"url\": \"http://hl7.org/fhir/us/core/StructureDefinition/us-core-birthsex\", \"valueCode\": \"M\"}, {\"url\": \"http://hl7.org/fhir/StructureDefinition/patient-birthPlace\", \"valueAddress\": {\"city\": \"Cambridge\", \"state\": \"Massachusetts\", \"country\": \"US\"}}, {\"url\": \"http://synthetichealth.github.io/synthea/disability-adjusted-life-years\", \"valueDecimal\": 17.13814248316981}, {\"url\": \"http://synthetichealth.github.io/synthea/quality-adjusted-life-years\", \"valueDecimal\": 48.86185751683019}], \"identifier\": [{\"system\": \"https://github.com/synthetichealth/synthea\", \"value\": \"3718b84e-cbe9-1950-6c6c-e6f4fdc907be\"}, {\"type\": {\"coding\": [{\"system\": \"http://terminology.hl7.org/CodeSystem/v2-0203\", \"code\": \"MR\", \"display\": \"Medical Record Number\"}], \"text\": \"Medical Record Number\"}, \"system\": \"http://hospital.smarthealthit.org\", \"value\": \"3718b84e-cbe9-1950-6c6c-e6f4fdc907be\"}, {\"type\": {\"coding\": [{\"system\": \"http://terminology.hl7.org/CodeSystem/v2-0203\", \"code\": \"SS\", \"display\": \"Social Security Number\"}], \"text\": \"Social Security Number\"}, \"system\": \"http://hl7.org/fhir/sid/us-ssn\", \"value\": \"999-31-4351\"}, {\"type\": {\"coding\": [{\"system\": \"http://terminology.hl7.org/CodeSystem/v2-0203\", \"code\": \"DL\", \"display\": \"Driver\\'s license number\"}], \"text\": \"Driver\\'s license number\"}, \"system\": \"urn:oid:2.16.840.1.113883.4.3.25\", \"value\": \"S99933597\"}, {\"type\": {\"coding\": [{\"system\": \"http://terminology.hl7.org/CodeSystem/v2-0203\", \"code\": \"PPN\", \"display\": \"Passport Number\"}], \"text\": \"Passport Number\"}, \"system\": \"http://hl7.org/fhir/sid/passport-USA\", \"value\": \"X54440952X\"}], \"name\": [{\"use\": \"official\", \"family\": \"Runolfsdottir785\", \"given\": [\"Abe604\", \"Franklin857\"], \"prefix\": [\"Mr.\"]}], \"telecom\": [{\"system\": \"phone\", \"value\": \"555-572-5416\", \"use\": \"home\"}], \"gender\": \"male\", \"birthDate\": \"1934-11-17\", \"deceasedDateTime\": \"2001-08-18T12:25:03+00:00\", \"address\": [{\"extension\": [{\"url\": \"http://hl7.org/fhir/StructureDefinition/geolocation\", \"extension\": [{\"url\": \"latitude\", \"valueDecimal\": 42.369901149748934}, {\"url\": \"longitude\", \"valueDecimal\": -71.77449718386292}]}], \"line\": [\"569 Schuppe Ville Apt 40\"], \"city\": \"Worcester\", \"state\": \"MA\", \"postalCode\": \"01603\", \"country\": \"US\"}], \"maritalStatus\": {\"coding\": [{\"system\": \"http://terminology.hl7.org/CodeSystem/v3-MaritalStatus\", \"code\": \"M\", \"display\": \"Married\"}], \"text\": \"Married\"}, \"multipleBirthBoolean\": false, \"communication\": [{\"language\": {\"coding\": [{\"system\": \"urn:ietf:bcp:47\", \"code\": \"en-US\", \"display\": \"English (United States)\"}], \"text\": \"English (United States)\"}}]}', mimetype='text/plain', start_char_idx=None, end_char_idx=None, text_template='{metadata_str}\\n\\n{content}', metadata_template='{key}: {value}', metadata_seperator='\\n')"
      ]
     },
     "execution_count": 44,
     "metadata": {},
     "output_type": "execute_result"
    }
   ],
   "source": [
    "nodes[0]"
   ]
  },
  {
   "cell_type": "code",
   "execution_count": 57,
   "metadata": {},
   "outputs": [
    {
     "name": "stdout",
     "output_type": "stream",
     "text": [
      "0.166 1009520 300000\n"
     ]
    }
   ],
   "source": [
    "costs_batch_api, total_input_tokens, total_output_tokens = aprox_costs(nodes)\n",
    "print(costs_batch_api, total_input_tokens, total_output_tokens)"
   ]
  },
  {
   "cell_type": "code",
   "execution_count": 58,
   "metadata": {},
   "outputs": [
    {
     "name": "stdout",
     "output_type": "stream",
     "text": [
      "(0.331, 1009520, 300000)\n"
     ]
    }
   ],
   "source": [
    "costs_batch_api = aprox_costs(nodes, cost_per_million_input=0.15, cost_per_million_output=0.6)\n",
    "print(costs_batch_api)"
   ]
  },
  {
   "cell_type": "markdown",
   "metadata": {},
   "source": [
    "# TODO\n",
    "\n",
    "- Cambiar notebooks a scripts\n",
    "- Dejar lista consulta para con chatgpt\n",
    "    - limitar generación y revisar textos largos, usar gpt4 mini\n",
    "- Por qué es tan lento la respuesta con llama.cpp?\n",
    "- Revisar porqué llama.cpp deja la pregunta incompleta si pasa el máximo contexto\n",
    "- Terminar entregables con mejoras posteriores y next steps\n"
   ]
  },
  {
   "cell_type": "code",
   "execution_count": 8,
   "metadata": {},
   "outputs": [
    {
     "data": {
      "text/plain": [
       "3000"
      ]
     },
     "execution_count": 8,
     "metadata": {},
     "output_type": "execute_result"
    }
   ],
   "source": [
    "sum([300]*10)"
   ]
  },
  {
   "cell_type": "code",
   "execution_count": null,
   "metadata": {},
   "outputs": [],
   "source": []
  },
  {
   "cell_type": "code",
   "execution_count": null,
   "metadata": {},
   "outputs": [],
   "source": []
  },
  {
   "cell_type": "code",
   "execution_count": null,
   "metadata": {},
   "outputs": [],
   "source": []
  },
  {
   "cell_type": "code",
   "execution_count": null,
   "metadata": {},
   "outputs": [],
   "source": []
  }
 ],
 "metadata": {
  "kernelspec": {
   "display_name": "venv",
   "language": "python",
   "name": "python3"
  },
  "language_info": {
   "codemirror_mode": {
    "name": "ipython",
    "version": 3
   },
   "file_extension": ".py",
   "mimetype": "text/x-python",
   "name": "python",
   "nbconvert_exporter": "python",
   "pygments_lexer": "ipython3",
   "version": "3.9.19"
  }
 },
 "nbformat": 4,
 "nbformat_minor": 2
}
